{
 "cells": [
  {
   "cell_type": "code",
   "execution_count": null,
   "id": "668063b8-db8c-4f02-bb47-90043c00c19b",
   "metadata": {},
   "outputs": [],
   "source": [
    "!pip install orjson websocket-client"
   ]
  },
  {
   "cell_type": "code",
   "execution_count": 1,
   "id": "1b39a340-874b-4a81-a40a-d3cdb3925152",
   "metadata": {},
   "outputs": [],
   "source": [
    "import orjson           # super-fast JSON parser\n",
    "import websocket        # WebSocket client library\n",
    "\n",
    "JETSTREAM_URL = (\n",
    "    \"wss://jetstream2.us-west.bsky.network/\"\n",
    "    \"subscribe?wantedCollections=app.bsky.feed.post\"\n",
    ")"
   ]
  },
  {
   "cell_type": "code",
   "execution_count": 2,
   "id": "df7698f4-de53-40b7-8827-b7f607675327",
   "metadata": {},
   "outputs": [
    {
     "name": "stdout",
     "output_type": "stream",
     "text": [
      "['pt'] Na cara do sionista.\n",
      "None “Strange Currencies” by R.E.M. #nowplaying #radio2\n",
      "['en'] \n",
      "['ko'] 【GTA】りりむの成長に涙が出そうになったのせさん＆花芽姉妹の痴話喧嘩をみてるのせさんwww【ぶいすぽ切り抜き/】 www.youtube.com/watch?v=MRby...\n",
      "\n",
      "第一の人生と全ての登場人物に感謝w\n",
      "['pt'] nem é tão especial, mas todo mundo pra quem eu contei achou estranho: eu choro quando sinto vergonha alheia. Às vezes alguém tá se apresentando artisticamente e a galera acha que eu to emocionada, mas eu to achando é mt brega e chorando involuntariamente\n",
      "['ja'] またデカいところが青空に来たみたいだ\n",
      "['en'] Yes\n",
      "['en'] open.spotify.com/track/3aDEzI...\n",
      "['en'] And we are going to have a huge birthday bash for a traitor. On our dime.\n",
      "['en'] Trump is activating National Guard in response to LA protests. \n",
      "\n",
      "He must be kept at bay until 2026 elections. \n",
      "\n",
      "This reminds me of the fear at the end of trumps last term.\n",
      "['ja'] @run-toru.bsky.social\n",
      "おっはよーう\n",
      "閲覧今日もありがとう。\n",
      "RT♡ありがとう。\n",
      "きゃは(≧∇≦)\n",
      "['en'] #svengoolie my favorite part of this show is when Sven comes back from commercial and says. “And now the conclusion of tonight’s movie….”\n",
      "None Blue Eye Samurai S01E05 - The Tale of the Ronin and the Bride\n",
      "\n",
      "#BlueEyeSamurai\n",
      "\n",
      "['en'] This Demon Miller needs deported. Send him to Siberia!!!!  \n",
      "\n",
      "www.huffpost.com/entry/stephe...\n",
      "None 👑 Tag your cat-loving bestie! Behind every great person is a great cat. 🐱\n",
      "\n",
      "#CatsAndDogs #FurryFriends\n",
      "['ja'] ネットは明日どうにかなりそう\n",
      "['en'] SWEAR ON MY FAMILY 🙋‍♂️\n",
      "\n",
      "Needed snuff and went to the head shop that sells tobacco and THC smokeables.\n",
      "\n",
      "I waited for five minutes as a guy spent over $100 on vapes and flower while telling the cashier he supported making it illegal. \n",
      "\n",
      "Alabama is the dumbest state in America.\n",
      "['ja'] 「恋咲島」イベントのストーリーを完了させました。KEI的には微妙な感じでしたけど・・・NPCの結婚式には招待されるのですかね？🤣\n",
      "\n",
      "#マビノギ \n",
      "kei-irike.blog.jp/archives/267...\n",
      "['en'] The second American Civil War begins... #USA #Trump #ICE #LosAngelesRaids #RonVara #Tariffs #Vance #Thiel #TechBros #TrumpCrimeFamily #Treason #autocracy #BatshitCrazy #MAGA #Obscurantism #ChristoFascism #NewDarkAge www.abc.net.au/news/2025-06...\n",
      "None BBC Radio 1 Dance\n",
      "Radio 1's Classic Essential Mix: Swedish House Mafia at Creamfields 2010\n",
      "\n",
      "Now Playing\n",
      "Steve Angello\n",
      "Tivoli (Size)\n",
      "['en'] Wordle 1,450 6/6*\n",
      "\n",
      "🟨⬜⬜⬜⬜\n",
      "🟨🟨⬜🟨⬜\n",
      "🟩🟩🟩⬜⬜\n",
      "🟩🟩🟩⬜🟨\n",
      "🟩🟩🟩🟩⬜\n",
      "🟩🟩🟩🟩🟩🐰🐰🐰🐰🐰🐰\n",
      "['en'] The Governor needs to just say \"GTFO\" - he is within his rights to do so unless TACO is going to try to invoke the Insurrection Act which would be the ULTIMATE irony.\n",
      "None do  I  then  belong  to  the  heavens?   why,  if  not  so,  should  the  heavens  fix  me  thus  with  their  ceaseless  blue  stare\n",
      "None They will if the new chairperson personally takes it upon herself to keep tabs on you.\n",
      "['en'] www.threads.com/@bluwndzdanc...\n",
      "['en'] My winner in every single way all days 🥰\n",
      "['en'] For anyone wondering where ICEgestapo is hiring from...\n",
      "['zh'] 週日本誌~!\n",
      "期待\n",
      "['en'] \n",
      "['en'] \n",
      "['en-US', 'en'] Is Tijjani Reijnders the man to revitalise Manchester City’s midfield?\n",
      "\n",
      "https://www.eucup.com/1084591/\n",
      "\n",
      "Reijnders joins City in a period which feels like a revolution rather than a renewal, and one that may require a revolving door at the Etihad over the next few months. Midfielders Kalvin …\n",
      "WebSocket closed: None None\n"
     ]
    },
    {
     "data": {
      "text/plain": [
       "False"
      ]
     },
     "execution_count": 2,
     "metadata": {},
     "output_type": "execute_result"
    }
   ],
   "source": [
    "def on_message(ws, msg):\n",
    "    # 1. Parse the incoming JSON text into a Python dict\n",
    "    data = orjson.loads(msg)\n",
    "\n",
    "    # 2. Check that this is a ‘commit’ event for the feed.post collection\n",
    "    if data.get(\"kind\") == \"commit\" \\\n",
    "    and data[\"commit\"].get(\"collection\") == \"app.bsky.feed.post\":\n",
    "        c = data[\"commit\"]  # shorthand for the commit payload\n",
    "\n",
    "        # 3. Only handle newly created posts (ignore updates/deletes)\n",
    "        if c.get(\"operation\") == \"create\":\n",
    "            r = c.get(\"record\", {})  # extract the post record\n",
    "\n",
    "            # 4. Skip replies; only show top-level posts\n",
    "            if \"reply\" not in r:\n",
    "                # 5. Print language tags and post text\n",
    "                print(r.get(\"langs\"), r.get(\"text\"))\n",
    "\n",
    "                # 6. Decrement our counter so we auto-close after N prints\n",
    "                ws.close_after -= 1\n",
    "\n",
    "    # 7. If counter drops below zero, close the WebSocket connection\n",
    "    if ws.close_after < 0:\n",
    "        ws.close()\n",
    "\n",
    "# Create the WebSocket client, wiring up handlers in a single cell\n",
    "ws = websocket.WebSocketApp(\n",
    "    JETSTREAM_URL,\n",
    "    on_message=on_message,\n",
    "    on_error   = lambda w, e: print(\"WebSocket error:\", e),               # inline error logger\n",
    "    on_close   = lambda w, code, msg: print(\"WebSocket closed:\", code, msg)  # inline close notifier\n",
    ")\n",
    "\n",
    "# Number of posts to receive before stopping\n",
    "ws.close_after = 30\n",
    "\n",
    "# Start listening (this will block until ws.close() is called)\n",
    "ws.run_forever();"
   ]
  },
  {
   "cell_type": "code",
   "execution_count": null,
   "id": "556e1556-2dd4-428a-88e7-e9ee42d83dc6",
   "metadata": {},
   "outputs": [],
   "source": []
  },
  {
   "cell_type": "code",
   "execution_count": null,
   "id": "aec2caf5-2fec-45f4-bddf-7e6193bb3958",
   "metadata": {},
   "outputs": [],
   "source": []
  }
 ],
 "metadata": {
  "kernelspec": {
   "display_name": "Python 3 (ipykernel)",
   "language": "python",
   "name": "python3"
  },
  "language_info": {
   "codemirror_mode": {
    "name": "ipython",
    "version": 3
   },
   "file_extension": ".py",
   "mimetype": "text/x-python",
   "name": "python",
   "nbconvert_exporter": "python",
   "pygments_lexer": "ipython3",
   "version": "3.9.18"
  }
 },
 "nbformat": 4,
 "nbformat_minor": 5
}
